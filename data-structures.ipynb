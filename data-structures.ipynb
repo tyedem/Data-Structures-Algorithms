{
 "cells": [
  {
   "cell_type": "markdown",
   "metadata": {},
   "source": [
    "# Data Structures - Concrete Examples and Interview Questions\n",
    "\n",
    "## Arrays"
   ]
  },
  {
   "cell_type": "code",
   "execution_count": 1,
   "metadata": {},
   "outputs": [
    {
     "name": "stdout",
     "output_type": "stream",
     "text": [
      "[10, 2, 7, 5]\n"
     ]
    }
   ],
   "source": [
    "# Define array structure\n",
    "array = [10, 2, 7, 5]\n",
    "print(array)"
   ]
  },
  {
   "cell_type": "code",
   "execution_count": 2,
   "metadata": {},
   "outputs": [
    {
     "name": "stdout",
     "output_type": "stream",
     "text": [
      "10\n",
      "2\n",
      "7\n",
      "[10, 2]\n",
      "[2, 7]\n",
      "[10, 2, 7]\n",
      "[10, 2]\n",
      "[10, 2, 7, 5]\n"
     ]
    }
   ],
   "source": [
    "# Random Indexing: Indexes starts with 0\n",
    "print(array[0])\n",
    "print(array[1])\n",
    "print(array[2])\n",
    "print(array[0:2])\n",
    "print(array[1:3])\n",
    "print(array[:-1])\n",
    "print(array[:-2])\n",
    "print(array[:])\n"
   ]
  },
  {
   "cell_type": "code",
   "execution_count": 3,
   "metadata": {},
   "outputs": [
    {
     "name": "stdout",
     "output_type": "stream",
     "text": [
      "[10, 2, 'Jacques', 5]\n"
     ]
    }
   ],
   "source": [
    "# Python can mix data types in an array\n",
    "array1 = [10, 2, \"Jacques\", 5]\n",
    "print(array1)"
   ]
  },
  {
   "cell_type": "code",
   "execution_count": 4,
   "metadata": {},
   "outputs": [
    {
     "name": "stdout",
     "output_type": "stream",
     "text": [
      "[10, 'Aldous', 'Jacques', 5]\n"
     ]
    }
   ],
   "source": [
    "# Update array with index\n",
    "array1[1] = \"Aldous\"\n",
    "print(array1)"
   ]
  },
  {
   "cell_type": "code",
   "execution_count": 5,
   "metadata": {},
   "outputs": [
    {
     "name": "stdout",
     "output_type": "stream",
     "text": [
      "55\n"
     ]
    }
   ],
   "source": [
    "# Find max number in array  - This is called linear search O(N)\n",
    "array2 = [10,42,55,2,1,0]\n",
    "max = array2[0]\n",
    "for num in array2:\n",
    "    if num > max:\n",
    "        max = num\n",
    "print(max)"
   ]
  },
  {
   "cell_type": "code",
   "execution_count": 6,
   "metadata": {},
   "outputs": [
    {
     "name": "stdout",
     "output_type": "stream",
     "text": [
      "0\n"
     ]
    }
   ],
   "source": [
    "# Find min number in array\n",
    "min = array2[0]\n",
    "for num in array2:\n",
    "    if num < min:\n",
    "        min = num\n",
    "print(min)"
   ]
  },
  {
   "cell_type": "markdown",
   "metadata": {},
   "source": [
    "## Reverse Order of Array"
   ]
  },
  {
   "cell_type": "code",
   "execution_count": 15,
   "metadata": {},
   "outputs": [
    {
     "name": "stdout",
     "output_type": "stream",
     "text": [
      "[4, 3, 2, 1]\n"
     ]
    }
   ],
   "source": [
    "# Interview Question - Reverse order of array\n",
    "def reverse(nums):\n",
    "\n",
    "    # pointing to the first item\n",
    "    start_index = 0\n",
    "    # index pointing to the last item\n",
    "    end_index = len(nums)-1\n",
    "\n",
    "    while end_index > start_index:\n",
    "        # keep swapping the items\n",
    "        nums[start_index], nums[end_index] = nums[end_index], nums[start_index]\n",
    "        # Increment the start_index by 1\n",
    "        start_index = start_index + 1\n",
    "        # Decrement the end_index by -1\n",
    "        end_index = end_index - 1\n",
    "\n",
    "# Entry point of the Python application\n",
    "if __name__ == '__main__':\n",
    "\n",
    "    n = [1,2,3,4]\n",
    "    reverse(n)\n",
    "    print(n)"
   ]
  },
  {
   "cell_type": "markdown",
   "metadata": {},
   "source": [
    "## Palindrome Problem"
   ]
  },
  {
   "cell_type": "code",
   "execution_count": 8,
   "metadata": {},
   "outputs": [
    {
     "name": "stdout",
     "output_type": "stream",
     "text": [
      "False\n",
      "True\n"
     ]
    }
   ],
   "source": [
    "# Interview Question - Palindrome Problem\n",
    "# it has O(s) so basically linear running time complexity as far as the number\n",
    "# of letters in the string is concerned\n",
    "def is_palindrome(s):\n",
    "\n",
    "    original_string = s\n",
    "    # this is what we have implemented in the previous lecture in O(N)\n",
    "    reversed_string = reverse(s)\n",
    "\n",
    "    if original_string == reversed_string:\n",
    "        return True\n",
    "\n",
    "    return False\n",
    "\n",
    "\n",
    "# O(N) linear running time where N is the number of letters in string s N=len(s)\n",
    "def reverse(data):\n",
    "\n",
    "    # string into a list of characters\n",
    "    data = list(data)\n",
    "\n",
    "    # pointing to the first item\n",
    "    start_index = 0\n",
    "    # index pointing to the last item\n",
    "    end_index = len(data)-1\n",
    "\n",
    "    while end_index > start_index:\n",
    "        # keep swapping the items\n",
    "\n",
    "        data[start_index], data[end_index] = data[end_index], data[start_index]\n",
    "        start_index = start_index + 1\n",
    "        end_index = end_index - 1\n",
    "\n",
    "    # transform the list of letters into a string\n",
    "    return ''.join(data)\n",
    "\n",
    "\n",
    "if __name__ == '__main__':\n",
    "    print(is_palindrome('Kevin'))\n",
    "    print(is_palindrome('madam'))"
   ]
  },
  {
   "cell_type": "code",
   "execution_count": 9,
   "metadata": {},
   "outputs": [
    {
     "name": "stdout",
     "output_type": "stream",
     "text": [
      "False\n",
      "True\n"
     ]
    }
   ],
   "source": [
    "# Palindrome Problem in Python\n",
    "def palindrome_python(s):\n",
    "\n",
    "    # We start at the end of the string and decrement by 1 until we arrive at the beginning of the string\n",
    "    # s[::-1] signifies we are going to consider letter in a reverse order\n",
    "    if s == s[::-1]:\n",
    "        return True\n",
    "\n",
    "    return False\n",
    "\n",
    "if __name__ == '__main__':\n",
    "    print(palindrome_python('car'))\n",
    "    print(palindrome_python('madam'))"
   ]
  },
  {
   "cell_type": "markdown",
   "metadata": {},
   "source": [
    "## Integer Reversion Problem"
   ]
  },
  {
   "cell_type": "code",
   "execution_count": 10,
   "metadata": {},
   "outputs": [
    {
     "name": "stdout",
     "output_type": "stream",
     "text": [
      "87654321\n",
      "4321\n"
     ]
    }
   ],
   "source": [
    "# Interview Question - Integer reversion\n",
    "def reverse_integer(n):\n",
    "\n",
    "    reversed_integer = 0\n",
    "    while n > 0:\n",
    "        # Divide the original number by 10 and thus use the modulo (%) operator\n",
    "        remainder = n % 10\n",
    "        reversed_integer = reversed_integer * 10 + remainder\n",
    "        n = n // 10\n",
    "\n",
    "    return reversed_integer\n",
    "\n",
    "\n",
    "if __name__ == '__main__':\n",
    "    print(reverse_integer(12345678))\n",
    "    print(reverse_integer(12340))"
   ]
  },
  {
   "cell_type": "markdown",
   "metadata": {},
   "source": [
    "## Anagram Problem"
   ]
  },
  {
   "cell_type": "code",
   "execution_count": 11,
   "metadata": {},
   "outputs": [
    {
     "name": "stdout",
     "output_type": "stream",
     "text": [
      "False\n",
      "True\n"
     ]
    }
   ],
   "source": [
    "# Interview Question - Anagram Problem\n",
    "\n",
    "def is_anagram(str1, str2):\n",
    "\n",
    "    # if the length of the strings differ - they are not anagrams\n",
    "    if len(str1) != len(str2):\n",
    "        return False\n",
    "\n",
    "    # we have to sort the letters of the strings and then we have to compare\n",
    "    # the letters with the same indexes\n",
    "    # this is the bottleneck because it has O(NlogN) - linearithmic complexity\n",
    "    str1 = sorted(str1)\n",
    "    str2 = sorted(str2)\n",
    "\n",
    "    # after that we have to check the letters with the same indexes\n",
    "    # O(N) running time\n",
    "    for i in range(len(str1)):\n",
    "        if str1[i] != str2[i]:\n",
    "            return False\n",
    "\n",
    "    # overall running time is O(NlogN)+O(N)=O(NlogN) and thus linearithmic complexity\n",
    "\n",
    "    return True\n",
    "\n",
    "\n",
    "if __name__ == '__main__':\n",
    "\n",
    "    s1 = ['f', 'l', 'u', 's', 't', 'e', 'r']\n",
    "    s2 = ['r', 'e', 's', 't', 'f', 'e', 'l']\n",
    "    s3 = ['r', 'e', 's', 't', 'f', 'u', 'l']\n",
    "    print(is_anagram(s1, s2))\n",
    "    print(is_anagram(s1, s3))\n"
   ]
  },
  {
   "cell_type": "markdown",
   "metadata": {},
   "source": [
    "## Dutch National Flag Problem\n",
    "The problem is that we want to sort a <b>T[]</b> one-dimensional array of integers in <b>O(N)</b> running time - and without any extra memmory. <b>The array can contain values : 0,1 and 2</b>"
   ]
  },
  {
   "cell_type": "code",
   "execution_count": 16,
   "metadata": {},
   "outputs": [
    {
     "name": "stdout",
     "output_type": "stream",
     "text": [
      "[0, 0, 0, 1, 1, 1, 2, 2, 2, 2]\n"
     ]
    }
   ],
   "source": [
    "def dutch_flag_problem(nums, pivot=1):\n",
    "    i = 0\n",
    "    j = 0\n",
    "    k = len(nums)-1\n",
    "\n",
    "    while j <= k:\n",
    "        \n",
    "        # Current element is 0\n",
    "        if nums[j] < pivot:\n",
    "            swap(nums, i, j)\n",
    "            i= i + 1\n",
    "            j= j+ 1\n",
    "        # current element is 2\n",
    "        elif nums[j] > pivot:\n",
    "            swap(nums, j, k)\n",
    "            k = k - 1\n",
    "        # Current element is 1\n",
    "        else:\n",
    "            j = j + 1\n",
    "        \n",
    "    return nums\n",
    "\n",
    "def swap(nums,index1,index2):\n",
    "    nums[index1], nums[index2] = nums[index2], nums[index1]\n",
    "\n",
    "\n",
    "if __name__ == '__main__':\n",
    "    print(dutch_flag_problem([0,1,2,2,1,0,0,2,2,1]))"
   ]
  },
  {
   "cell_type": "markdown",
   "metadata": {},
   "source": [
    "## Trapping Rain Water Problem\n",
    "\n",
    "Given n non-negative integers representing an elevation map where the width of each bar is 1. Compute how much water it can trap after raining."
   ]
  },
  {
   "cell_type": "code",
   "execution_count": 13,
   "metadata": {},
   "outputs": [
    {
     "ename": "TypeError",
     "evalue": "'int' object is not callable",
     "output_type": "error",
     "traceback": [
      "\u001b[0;31m---------------------------------------------------------------------------\u001b[0m",
      "\u001b[0;31mTypeError\u001b[0m                                 Traceback (most recent call last)",
      "\u001b[0;32m/var/folders/zd/177pbk7526b8z7j4f5kq9pbc0000gn/T/ipykernel_30733/1161451769.py\u001b[0m in \u001b[0;36m<module>\u001b[0;34m\u001b[0m\n\u001b[1;32m     30\u001b[0m \u001b[0;34m\u001b[0m\u001b[0m\n\u001b[1;32m     31\u001b[0m \u001b[0;32mif\u001b[0m \u001b[0m__name__\u001b[0m \u001b[0;34m==\u001b[0m \u001b[0;34m'__main__'\u001b[0m\u001b[0;34m:\u001b[0m\u001b[0;34m\u001b[0m\u001b[0;34m\u001b[0m\u001b[0m\n\u001b[0;32m---> 32\u001b[0;31m     \u001b[0mprint\u001b[0m\u001b[0;34m(\u001b[0m\u001b[0mtrapping_water_problem\u001b[0m\u001b[0;34m(\u001b[0m\u001b[0;34m[\u001b[0m\u001b[0;36m1\u001b[0m\u001b[0;34m,\u001b[0m \u001b[0;36m0\u001b[0m\u001b[0;34m,\u001b[0m \u001b[0;36m2\u001b[0m\u001b[0;34m,\u001b[0m \u001b[0;36m1\u001b[0m\u001b[0;34m,\u001b[0m \u001b[0;36m3\u001b[0m\u001b[0;34m,\u001b[0m \u001b[0;36m1\u001b[0m\u001b[0;34m,\u001b[0m \u001b[0;36m2\u001b[0m\u001b[0;34m,\u001b[0m \u001b[0;36m0\u001b[0m\u001b[0;34m,\u001b[0m \u001b[0;36m3\u001b[0m\u001b[0;34m]\u001b[0m\u001b[0;34m)\u001b[0m\u001b[0;34m)\u001b[0m\u001b[0;34m\u001b[0m\u001b[0;34m\u001b[0m\u001b[0m\n\u001b[0m",
      "\u001b[0;32m/var/folders/zd/177pbk7526b8z7j4f5kq9pbc0000gn/T/ipykernel_30733/1161451769.py\u001b[0m in \u001b[0;36mtrapping_water_problem\u001b[0;34m(heights)\u001b[0m\n\u001b[1;32m     11\u001b[0m     \u001b[0;31m# dealing with the left max values\u001b[0m\u001b[0;34m\u001b[0m\u001b[0;34m\u001b[0m\u001b[0;34m\u001b[0m\u001b[0m\n\u001b[1;32m     12\u001b[0m     \u001b[0;32mfor\u001b[0m \u001b[0mi\u001b[0m \u001b[0;32min\u001b[0m \u001b[0mrange\u001b[0m\u001b[0;34m(\u001b[0m\u001b[0;36m1\u001b[0m\u001b[0;34m,\u001b[0m \u001b[0mlen\u001b[0m\u001b[0;34m(\u001b[0m\u001b[0mheights\u001b[0m\u001b[0;34m)\u001b[0m\u001b[0;34m)\u001b[0m\u001b[0;34m:\u001b[0m\u001b[0;34m\u001b[0m\u001b[0;34m\u001b[0m\u001b[0m\n\u001b[0;32m---> 13\u001b[0;31m         \u001b[0mleft_max\u001b[0m\u001b[0;34m[\u001b[0m\u001b[0mi\u001b[0m\u001b[0;34m]\u001b[0m \u001b[0;34m=\u001b[0m \u001b[0mmax\u001b[0m\u001b[0;34m(\u001b[0m\u001b[0mleft_max\u001b[0m\u001b[0;34m[\u001b[0m\u001b[0mi\u001b[0m \u001b[0;34m-\u001b[0m \u001b[0;36m1\u001b[0m\u001b[0;34m]\u001b[0m\u001b[0;34m,\u001b[0m \u001b[0mheights\u001b[0m\u001b[0;34m[\u001b[0m\u001b[0mi\u001b[0m \u001b[0;34m-\u001b[0m \u001b[0;36m1\u001b[0m\u001b[0;34m]\u001b[0m\u001b[0;34m)\u001b[0m\u001b[0;34m\u001b[0m\u001b[0;34m\u001b[0m\u001b[0m\n\u001b[0m\u001b[1;32m     14\u001b[0m \u001b[0;34m\u001b[0m\u001b[0m\n\u001b[1;32m     15\u001b[0m     \u001b[0;31m# dealing with the right max values. We start with -2 since we already know that the initial position is 0\u001b[0m\u001b[0;34m\u001b[0m\u001b[0;34m\u001b[0m\u001b[0;34m\u001b[0m\u001b[0m\n",
      "\u001b[0;31mTypeError\u001b[0m: 'int' object is not callable"
     ]
    }
   ],
   "source": [
    "# Interview Question - Trapping Rain Water Problem - \n",
    "# NOTE: Run this program in Python script. Running in Jupyter notebook will return a \"TypeError: 'int' object is not callable\"\n",
    "def trapping_water_problem(heights):\n",
    "    if len(heights) < 3:\n",
    "        return 0\n",
    "\n",
    "    # Create list data structures for left_max and right_max\n",
    "    # '_' is a placeholder for the number of values in heights\n",
    "    left_max = [0 for _ in range(len(heights))]\n",
    "    right_max = [0 for _ in range(len(heights))]\n",
    "\n",
    "    # dealing with the left max values\n",
    "    for i in range(1, len(heights)):\n",
    "        left_max[i] = max(left_max[i - 1], heights[i - 1])\n",
    "\n",
    "    # dealing with the right max values. We start with -2 since we already know that the initial position is 0\n",
    "    # And because the index is exclusive, we define by -1 and we keep incrementing the index by -1\n",
    "    for i in range(len(heights) - 2, -1, -1):\n",
    "        right_max[i] = max(right_max[i + 1], heights[i + 1])\n",
    "\n",
    "    # consider all the items in O(N) and sum up the trapped rain water units\n",
    "    trapped = 0\n",
    "\n",
    "    # We start with index 1 because we know that index 0 cannot trap any water\n",
    "    for i in range(1, len(heights) - 1):\n",
    "        if min(left_max[i], right_max[i]) > heights[i]:\n",
    "            trapped += min(left_max[i], right_max[i]) - heights[i]\n",
    "\n",
    "    return trapped\n",
    "\n",
    "\n",
    "if __name__ == '__main__':\n",
    "    print(trapping_water_problem([1, 0, 2, 1, 3, 1, 2, 0, 3]))"
   ]
  },
  {
   "cell_type": "markdown",
   "metadata": {},
   "source": [
    "# Linked Lists"
   ]
  },
  {
   "cell_type": "code",
   "execution_count": 22,
   "metadata": {},
   "outputs": [
    {
     "name": "stdout",
     "output_type": "stream",
     "text": [
      "1000\n",
      "100\n",
      "10\n",
      "Adam\n",
      "7.5\n",
      "-------\n",
      "100\n",
      "10\n",
      "Adam\n",
      "7.5\n"
     ]
    }
   ],
   "source": [
    "# Define Node data structure\n",
    "class Node:\n",
    "\n",
    "    def __init__(self, data):\n",
    "        self.data = data\n",
    "        self.next_node = None\n",
    "\n",
    "    def __repr__(self):\n",
    "        return str(self.data)\n",
    "\n",
    "# Define linked list data structure\n",
    "class LinkedList:\n",
    "\n",
    "    def __init__(self):\n",
    "        # this is the first node of the linked list\n",
    "        # WE CAN ACCESS THIS HEAD NODE EXCLUSIVELY !!!\n",
    "        self.head = None\n",
    "        self.num_of_nodes = 0\n",
    "\n",
    "    # O(1) constant running time because we only havw to update the references\n",
    "    def insert_start(self, data):\n",
    "        self.num_of_nodes += 1\n",
    "        new_node = Node(data)\n",
    "\n",
    "        # the head is NULL (so the data structure is empty)\n",
    "        if self.head is None:\n",
    "            self.head = new_node\n",
    "        # so this is when the linked list is not empty\n",
    "        else:\n",
    "            # we have to update the references\n",
    "            new_node.next_node = self.head\n",
    "            self.head = new_node\n",
    "\n",
    "    # O(N) linear running time\n",
    "    def insert_end(self, data):\n",
    "        self.num_of_nodes += 1\n",
    "        new_node = Node(data)\n",
    "\n",
    "        # check if the linked list is empty\n",
    "        if self.head is None:\n",
    "            self.head = new_node\n",
    "        else:\n",
    "            # this is when the linked list is not empty\n",
    "            actual_node = self.head\n",
    "\n",
    "            # this is why it has O(N) linear running time\n",
    "            while actual_node.next_node is not None:\n",
    "                actual_node = actual_node.next_node\n",
    "\n",
    "            # actual_node is the last node: so we insert the new_node\n",
    "            # right after the actual_node\n",
    "            # this is how we dinf the last item of the list\n",
    "            # O(N) linear running time\n",
    "            actual_node.next_node = new_node\n",
    "\n",
    "    # O(1) constant running time\n",
    "    def size_of_list(self):\n",
    "        return self.num_of_nodes\n",
    "\n",
    "    # O(N) linear running time - Traverse through every item in the linked list\n",
    "    def traverse(self):\n",
    "\n",
    "        actual_node = self.head\n",
    "\n",
    "        while actual_node is not None:\n",
    "            print(actual_node.data)\n",
    "            actual_node = actual_node.next_node\n",
    "\n",
    "    # O(N) linear running time\n",
    "    def remove(self, data):\n",
    "\n",
    "        # the list is empty\n",
    "        if self.head is None:\n",
    "            return\n",
    "\n",
    "        actual_node = self.head\n",
    "        # we have to track the previous node for future pointer updates\n",
    "        # this is why doubly linked lists are better - we can get the previous\n",
    "        # node (here with linked lists it is impossible)\n",
    "        previous_node = None\n",
    "\n",
    "        # search for the item we want to remove (data)\n",
    "        while actual_node is not None and actual_node.data != data:\n",
    "            previous_node = actual_node\n",
    "            actual_node = actual_node.next_node\n",
    "\n",
    "        # search miss\n",
    "        if actual_node is None:\n",
    "            return\n",
    "\n",
    "        # update the references (so we have the data we want to remove)\n",
    "        # the head node is the one we want to remove\n",
    "        if previous_node is None:\n",
    "            self.head = actual_node.next_node\n",
    "        else:\n",
    "            # remove an internal node by updating the pointers\n",
    "            # NO NEED TO del THE NODE BECAUSE THE GARBAGE COLLECTOR WILL DO THAT\n",
    "            previous_node.next_node = actual_node.next_node\n",
    "\n",
    "\n",
    "if __name__ == '__main__':\n",
    "    linked_list = LinkedList()\n",
    "    linked_list.insert_end(10)\n",
    "    linked_list.insert_start(100)\n",
    "    linked_list.insert_start(1000)\n",
    "    linked_list.insert_end('Adam')\n",
    "    linked_list.insert_end(7.5)\n",
    "    linked_list.traverse()\n",
    "    print('-------')\n",
    "    linked_list.remove(1000)\n",
    "    linked_list.traverse()"
   ]
  },
  {
   "cell_type": "markdown",
   "metadata": {},
   "source": [
    "# Doubly Linked List"
   ]
  },
  {
   "cell_type": "code",
   "execution_count": 26,
   "metadata": {},
   "outputs": [
    {
     "name": "stdout",
     "output_type": "stream",
     "text": [
      "1\n",
      "2\n",
      "3\n",
      "3\n",
      "2\n",
      "1\n"
     ]
    }
   ],
   "source": [
    "# Assign class\n",
    "class Node:\n",
    "\n",
    "    # Initialization block\n",
    "    def __init__(self, data):\n",
    "        self.data = data\n",
    "        self.next = None\n",
    "        self.previous = None\n",
    "\n",
    "# Assign class\n",
    "class DoublyLinkedList:\n",
    "\n",
    "    # Initialization block\n",
    "    def __init__(self):\n",
    "        self.head = None\n",
    "        self.tail = None\n",
    "\n",
    "    # this operation inserts items at the end of the linked list\n",
    "    # so we have to manipulate the tail node in O(1) running time\n",
    "    def insert(self, data):\n",
    "\n",
    "        new_node = Node(data)\n",
    "\n",
    "        # when the list is empty\n",
    "        if self.head is None:\n",
    "            self.head = new_node\n",
    "            self.tail = new_node\n",
    "        # there is at least 1 item in the data structure\n",
    "        # we keep inserting items at the end of the linked list\n",
    "        else:\n",
    "            new_node.previous = self.tail\n",
    "            self.tail.next = new_node\n",
    "            self.tail = new_node\n",
    "\n",
    "    # we can traverse a doubly linked list in both directions\n",
    "    def traverse_forward(self):\n",
    "\n",
    "        actual_node = self.head\n",
    "\n",
    "        while actual_node is not None:\n",
    "            print(\"%d\" % actual_node.data)\n",
    "            actual_node = actual_node.next\n",
    "\n",
    "    def traverse_backward(self):\n",
    "\n",
    "        actual_node = self.tail\n",
    "\n",
    "        while actual_node is not None:\n",
    "            print(\"%d\" % actual_node.data)\n",
    "            actual_node = actual_node.previous\n",
    "\n",
    "\n",
    "if __name__ == '__main__':\n",
    "\n",
    "    linked_list = DoublyLinkedList()\n",
    "    linked_list.insert(1)\n",
    "    linked_list.insert(2)\n",
    "    linked_list.insert(3)\n",
    "\n",
    "    # 1 2 3\n",
    "    linked_list.traverse_forward()\n",
    "\n",
    "    # 3 2 1\n",
    "    linked_list.traverse_backward()\n"
   ]
  },
  {
   "cell_type": "markdown",
   "metadata": {},
   "source": [
    "# Comparing Running Times of Linked Lists and Arrays"
   ]
  },
  {
   "cell_type": "code",
   "execution_count": 37,
   "metadata": {},
   "outputs": [
    {
     "name": "stdout",
     "output_type": "stream",
     "text": [
      "Inserting at the start of a Linked List:\n",
      "---------------------------------------\n",
      "Inserting items into Linked List in 0.004602670669555664s\n",
      "Inserting items into Array in 0.00859379768371582s\n",
      "---------------------------------------\n",
      "Inserting at the end of a Linked List:\n",
      "---------------------------------------\n",
      "Inserting items into Linked List in 2.914346933364868s\n",
      "Inserting items into Array in 0.008578062057495117s\n"
     ]
    }
   ],
   "source": [
    "import time\n",
    "\n",
    "# Define Node data structure\n",
    "class Node:\n",
    "\n",
    "    def __init__(self, data):\n",
    "        self.data = data\n",
    "        self.next_node = None\n",
    "\n",
    "    def __repr__(self):\n",
    "        return str(self.data)\n",
    "\n",
    "# Define linked list data structure\n",
    "class LinkedList:\n",
    "\n",
    "    def __init__(self):\n",
    "        # this is the first node of the linked list\n",
    "        # WE CAN ACCESS THIS HEAD NODE EXCLUSIVELY !!!\n",
    "        self.head = None\n",
    "        self.num_of_nodes = 0\n",
    "\n",
    "    # O(1) constant running time because we only havw to update the references\n",
    "    def insert_start(self, data):\n",
    "        self.num_of_nodes += 1\n",
    "        new_node = Node(data)\n",
    "\n",
    "        # the head is NULL (so the data structure is empty)\n",
    "        if self.head is None:\n",
    "            self.head = new_node\n",
    "        # so this is when the linked list is not empty\n",
    "        else:\n",
    "            # we have to update the references\n",
    "            new_node.next_node = self.head\n",
    "            self.head = new_node\n",
    "\n",
    "    # O(N) linear running time\n",
    "    def insert_end(self, data):\n",
    "        self.num_of_nodes += 1\n",
    "        new_node = Node(data)\n",
    "\n",
    "        # check if the linked list is empty\n",
    "        if self.head is None:\n",
    "            self.head = new_node\n",
    "        else:\n",
    "            # this is when the linked list is not empty\n",
    "            actual_node = self.head\n",
    "\n",
    "            # this is why it has O(N) linear running time\n",
    "            while actual_node.next_node is not None:\n",
    "                actual_node = actual_node.next_node\n",
    "\n",
    "            # actual_node is the last node: so we insert the new_node\n",
    "            # right after the actual_node\n",
    "            # this is how we dinf the last item of the list\n",
    "            # O(N) linear running time\n",
    "            actual_node.next_node = new_node\n",
    "\n",
    "    # O(1) constant running time\n",
    "    def size_of_list(self):\n",
    "        return self.num_of_nodes\n",
    "\n",
    "    # O(N) linear running time - Traverse through every item in the linked list\n",
    "    def traverse(self):\n",
    "\n",
    "        actual_node = self.head\n",
    "\n",
    "        while actual_node is not None:\n",
    "            print(actual_node.data)\n",
    "            actual_node = actual_node.next_node\n",
    "\n",
    "    # O(N) linear running time\n",
    "    def remove(self, data):\n",
    "\n",
    "        # the list is empty\n",
    "        if self.head is None:\n",
    "            return\n",
    "\n",
    "        actual_node = self.head\n",
    "        # we have to track the previous node for future pointer updates\n",
    "        # this is why doubly linked lists are better - we can get the previous\n",
    "        # node (here with linked lists it is impossible)\n",
    "        previous_node = None\n",
    "\n",
    "        # search for the item we want to remove (data)\n",
    "        while actual_node is not None and actual_node.data != data:\n",
    "            previous_node = actual_node\n",
    "            actual_node = actual_node.next_node\n",
    "\n",
    "        # search miss\n",
    "        if actual_node is None:\n",
    "            return\n",
    "\n",
    "        # update the references (so we have the data we want to remove)\n",
    "        # the head node is the one we want to remove\n",
    "        if previous_node is None:\n",
    "            self.head = actual_node.next_node\n",
    "        else:\n",
    "            # remove an internal node by updating the pointers\n",
    "            # NO NEED TO del THE NODE BECAUSE THE GARBAGE COLLECTOR WILL DO THAT\n",
    "            previous_node.next_node = actual_node.next_node\n",
    "\n",
    "if __name__ == '__main__':\n",
    "\n",
    "    linked_list = LinkedList()\n",
    "\n",
    "    now = time.time()\n",
    "\n",
    "    print('Inserting at the start of a Linked List:')\n",
    "    print('---------------------------------------')\n",
    "\n",
    "    for i in range(5000):\n",
    "        linked_list.insert_start(i)\n",
    "\n",
    "    print('Inserting items into Linked List in %ss' % str(time.time() - now))\n",
    "\n",
    "    array = []\n",
    "    now = time. time()\n",
    "\n",
    "    for i in range(5000):\n",
    "        array.insert(0,i)\n",
    "\n",
    "    print('Inserting items into Array in %ss' % str(time.time() - now))\n",
    "    print('---------------------------------------')\n",
    "    print('Inserting at the end of a Linked List:')\n",
    "    print('---------------------------------------')\n",
    "    for i in range(5000):\n",
    "        linked_list.insert_end(i)\n",
    "\n",
    "    print('Inserting items into Linked List in %ss' % str(time.time() - now))\n",
    "\n",
    "    array = []\n",
    "    now = time. time()\n",
    "\n",
    "    for i in range(5000):\n",
    "        array.insert(0,i)\n",
    "    \n",
    "    print('Inserting items into Array in %ss' % str(time.time() - now))"
   ]
  },
  {
   "cell_type": "code",
   "execution_count": null,
   "metadata": {},
   "outputs": [],
   "source": []
  },
  {
   "cell_type": "code",
   "execution_count": null,
   "metadata": {},
   "outputs": [],
   "source": []
  }
 ],
 "metadata": {
  "kernelspec": {
   "display_name": "Python 3.8.12 ('base')",
   "language": "python",
   "name": "python3"
  },
  "language_info": {
   "codemirror_mode": {
    "name": "ipython",
    "version": 3
   },
   "file_extension": ".py",
   "mimetype": "text/x-python",
   "name": "python",
   "nbconvert_exporter": "python",
   "pygments_lexer": "ipython3",
   "version": "3.8.12"
  },
  "orig_nbformat": 4,
  "vscode": {
   "interpreter": {
    "hash": "19cfba9a95c97142653d1fedb860c581298bb2aa9332cd1c38bf050f2394da6b"
   }
  }
 },
 "nbformat": 4,
 "nbformat_minor": 2
}
