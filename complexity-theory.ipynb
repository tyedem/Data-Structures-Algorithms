{
 "cells": [
  {
   "cell_type": "markdown",
   "metadata": {},
   "source": [
    "# Complexity Theory"
   ]
  },
  {
   "cell_type": "code",
   "execution_count": 15,
   "metadata": {},
   "outputs": [
    {
     "name": "stdout",
     "output_type": "stream",
     "text": [
      "4 2\n"
     ]
    }
   ],
   "source": [
    "# Constant Time Complexity O(1) - Swapping two numbers or deciding whether a number is odd or even\n",
    "def swapNums(num1, num2):\n",
    "    temp = num1\n",
    "    num1 = num2\n",
    "    num2 = temp\n",
    "    print(num1, num2)\n",
    "\n",
    "# Demo\n",
    "swapNums(2, 4)\n"
   ]
  },
  {
   "cell_type": "code",
   "execution_count": 16,
   "metadata": {},
   "outputs": [
    {
     "name": "stdout",
     "output_type": "stream",
     "text": [
      "1\n"
     ]
    }
   ],
   "source": [
    "# Demo - O(1)\n",
    "def get_first(data):\n",
    "    return data[0]\n",
    "    \n",
    "if __name__ == '__main__':\n",
    "    data = [1, 2, 9, 8, 3, 4, 7, 6, 5]\n",
    "    print(get_first(data))"
   ]
  },
  {
   "cell_type": "code",
   "execution_count": 18,
   "metadata": {},
   "outputs": [
    {
     "data": {
      "text/plain": [
       "False"
      ]
     },
     "execution_count": 18,
     "metadata": {},
     "output_type": "execute_result"
    }
   ],
   "source": [
    "# Demo - O(1)\n",
    "def greater_than(a,b):\n",
    "    if a > b:\n",
    "        return True\n",
    "    else:\n",
    "        return False\n",
    "\n",
    "greater_than(7, 8)\n"
   ]
  },
  {
   "cell_type": "code",
   "execution_count": null,
   "metadata": {},
   "outputs": [],
   "source": [
    "# Logarithmic Time Complexity O(logN) - finding an arbitrary item in a SORTED arraw\n",
    "# Check whether there is a cycle in a graph when solving Kruskal-algorithm (with disjoint sets) [famous graph algorithm]"
   ]
  },
  {
   "cell_type": "code",
   "execution_count": null,
   "metadata": {},
   "outputs": [],
   "source": [
    "# Linear Time Complexity O(N) - finding the maximum value in an array of numbers\n",
    "def findMax(a[]):\n",
    "    max = a[0]\n",
    "    for(int i=0;)"
   ]
  }
 ],
 "metadata": {
  "interpreter": {
   "hash": "19cfba9a95c97142653d1fedb860c581298bb2aa9332cd1c38bf050f2394da6b"
  },
  "kernelspec": {
   "display_name": "Python 3.8.12 ('base')",
   "language": "python",
   "name": "python3"
  },
  "language_info": {
   "codemirror_mode": {
    "name": "ipython",
    "version": 3
   },
   "file_extension": ".py",
   "mimetype": "text/x-python",
   "name": "python",
   "nbconvert_exporter": "python",
   "pygments_lexer": "ipython3",
   "version": "3.8.12"
  },
  "orig_nbformat": 4
 },
 "nbformat": 4,
 "nbformat_minor": 2
}
